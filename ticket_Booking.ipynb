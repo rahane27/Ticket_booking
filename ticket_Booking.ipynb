{
 "cells": [
  {
   "cell_type": "code",
   "execution_count": 6,
   "metadata": {},
   "outputs": [
    {
     "name": "stdout",
     "output_type": "stream",
     "text": [
      "enter Your NUMBER :1\n",
      "Avialble seats for Your Choices\n",
      "{'Platinum': ['A1', 'A2', 'A3', 'A4', 'A5', 'A6', 'A7', 'A8', 'A9'], 'Gold': ['B1', 'B2', 'B3', 'B4', 'B5', 'B6'], 'Sliver': ['C2', 'C3', 'C4', 'C5', 'C6', 'C7']}\n"
     ]
    }
   ],
   "source": [
    "Show1_dic1={'Platinum':['A1','A2','A3','A4','A5','A6','A7','A8','A9'],\n",
    "     'Gold':['B1', 'B2', 'B3', 'B4', 'B5', 'B6'],\n",
    "     'Sliver':['C2', 'C3', 'C4', 'C5' ,'C6', 'C7']}\n",
    "               \n",
    "Show2_dic2={'Platinum':['A1','A2','A3','A4','A5','A6','A7'],\n",
    "     'Gold':['B2', 'B3', 'B4', 'B5', 'B6'],\n",
    "     'Sliver':['C1','C2', 'C3', 'C4', 'C5' ,'C6', 'C7']}\n",
    "               \n",
    "Show3_dic3={'Platinum':['A1','A2','A3','A4','A5'],\n",
    "     'Gold':['B1', 'B2', 'B3', 'B4', 'B5', 'B6','B7','B8'],\n",
    "     'Sliver':['C1','C2', 'C3', 'C4', 'C5' ,'C6', 'C7','C8','C9']}\n",
    "\n",
    "ch=int(input('enter Your NUMBER :'))\n",
    "print('Avialble seats for Your Choices')\n",
    "if(ch==1):\n",
    "    print(Show1_dic1)\n",
    "elif(ch==2):\n",
    "    print(Show2_dic2)\n",
    "else:\n",
    "    print(Show3_dic3)\n",
    "    \n",
    "                   "
   ]
  },
  {
   "cell_type": "code",
   "execution_count": 7,
   "metadata": {},
   "outputs": [
    {
     "name": "stdout",
     "output_type": "stream",
     "text": [
      "Sucessfully booked Show 1\n"
     ]
    },
    {
     "data": {
      "text/plain": [
       "['B1', 'B4']"
      ]
     },
     "execution_count": 7,
     "metadata": {},
     "output_type": "execute_result"
    }
   ],
   "source": [
    "#For Booking Seats B1 And B4 For choice 1\n",
    "mylist=[]\n",
    "book=Show1_dic1['Gold'][0]\n",
    "mylist.append(book)\n",
    "book=Show1_dic1['Gold'][3]\n",
    "mylist.append(book)\n",
    "\n",
    "print('Sucessfully booked Show 1')\n",
    "mylist\n"
   ]
  },
  {
   "cell_type": "code",
   "execution_count": 8,
   "metadata": {},
   "outputs": [
    {
     "name": "stdout",
     "output_type": "stream",
     "text": [
      "Total Rupees you Have to pay Rs. 643.9999999999999\n"
     ]
    }
   ],
   "source": [
    "subtotal=2*280\n",
    "service_tax  =0.14*560\n",
    "Swachh_Bharat_Cess  =0.005*560\n",
    "Krishi_Kalyan_Cess   =0.005*560\n",
    "Total=subtotal+service_tax+Swachh_Bharat_Cess+Krishi_Kalyan_Cess\n",
    "print(\"Total Rupees you Have to pay Rs.\",Total)"
   ]
  },
  {
   "cell_type": "markdown",
   "metadata": {},
   "source": []
  }
 ],
 "metadata": {
  "kernelspec": {
   "display_name": "Python 3",
   "language": "python",
   "name": "python3"
  },
  "language_info": {
   "codemirror_mode": {
    "name": "ipython",
    "version": 3
   },
   "file_extension": ".py",
   "mimetype": "text/x-python",
   "name": "python",
   "nbconvert_exporter": "python",
   "pygments_lexer": "ipython3",
   "version": "3.6.5"
  }
 },
 "nbformat": 4,
 "nbformat_minor": 2
}
